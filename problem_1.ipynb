{
 "metadata": {
  "language_info": {
   "codemirror_mode": {
    "name": "ipython",
    "version": 3
   },
   "file_extension": ".py",
   "mimetype": "text/x-python",
   "name": "python",
   "nbconvert_exporter": "python",
   "pygments_lexer": "ipython3",
   "version": "3.8.5"
  },
  "orig_nbformat": 4,
  "kernelspec": {
   "name": "python3",
   "display_name": "Python 3.8.5 64-bit ('base': conda)"
  },
  "interpreter": {
   "hash": "71511eaa893d3a5dcdacbd36fa71cad1ef9494e58397fba4ffb8c3d96abe4089"
  }
 },
 "nbformat": 4,
 "nbformat_minor": 2,
 "cells": [
  {
   "source": [
    "# Least Recently Used Cache\n",
    "We have briefly discussed caching as part of a practice problem while studying hash maps.\n",
    "\n",
    "The lookup operation (i.e., `get()`) and `put()` / `set()` is supposed to be fast for a cache memory.\n",
    "\n",
    "While doing the `get()` operation, if the entry is found in the cache, it is known as a `cache hit`. If, however, the entry is not found, it is known as a `cache miss`.\n",
    "\n",
    "When designing a cache, we also place an upper bound on the size of the cache. If the cache is full and we want to add a new entry to the cache, we use some criteria to remove an element. After removing an element, we use the `put()` operation to insert the new element. The remove operation should also be fast.\n",
    "\n",
    "For our first problem, the goal will be to design a data structure known as a **Least Recently Used (LRU) cache**. An LRU cache is a type of cache in which we remove the least recently used entry when the cache memory reaches its limit. For the current problem, consider both `get` and `set` operations as an `use operation`.\n",
    "\n",
    "Your job is to use an appropriate data structure(s) to implement the cache.\n",
    "\n",
    "+ In case of a `cache hit`, your `get()` operation should return the appropriate value.\n",
    "+ In case of a `cache miss`, `your get()` should return -1.\n",
    "+ While putting an element in the cache, your `put()` / `set()` operation must insert the element. If the cache is full, you must write code that removes the least recently used entry first and then insert the element.\n",
    "\n",
    "All operations must take `O(1)` time.\n",
    "\n",
    "For the current problem, you can consider the size of `cache = 5`.\n"
   ],
   "cell_type": "markdown",
   "metadata": {}
  },
  {
   "cell_type": "code",
   "execution_count": 1,
   "metadata": {},
   "outputs": [],
   "source": [
    "class DoubleNode:  \n",
    "    \"\"\"Doubly Linked Node object for the linked queue.\n",
    "    \"\"\"\n",
    "\n",
    "    def __init__(self, value):\n",
    "        self._value = value\n",
    "        self._left_node = None\n",
    "        self._right_node = None\n",
    "\n",
    "    def get_left_node(self):\n",
    "        \"\"\"Returns left node.\n",
    "        \"\"\"\n",
    "        return self._left_node\n",
    "\n",
    "    def set_left_node(self, node):\n",
    "        \"\"\"Sets left node.\n",
    "        \"\"\"\n",
    "        self._left_node = node\n",
    "        if node: \n",
    "            node._right_node = self\n",
    "\n",
    "    def get_right_node(self):\n",
    "        \"\"\"Returns right node.\n",
    "        \"\"\"\n",
    "        return self._right_node\n",
    "\n",
    "    def set_right_node(self, node):\n",
    "        \"\"\"Sets right node.\n",
    "        \"\"\"\n",
    "        self._right_node = node\n",
    "        if node:\n",
    "            node._left_node = self\n",
    "\n",
    "    def get_value(self):\n",
    "        \"\"\"Gets value of node.\n",
    "        \"\"\"\n",
    "        return self._value"
   ]
  },
  {
   "cell_type": "code",
   "execution_count": 2,
   "metadata": {},
   "outputs": [
    {
     "output_type": "stream",
     "name": "stdout",
     "text": [
      "tests completed\n"
     ]
    }
   ],
   "source": [
    "# Tests for Node Class\n",
    "node = DoubleNode(10)\n",
    "assert node.get_value() == 10, 'Expected value 10'\n",
    "assert node.get_left_node() is None, 'Expected None left node'\n",
    "node.set_left_node(DoubleNode(5))\n",
    "assert node.get_left_node().get_value() == 5, 'Expected 5'\n",
    "node.set_right_node(DoubleNode(20))\n",
    "assert node.get_right_node().get_value() == 20, 'Expected 20'\n",
    "assert node.get_right_node().get_left_node() is not None, 'Reverse link should be automatically set'\n",
    "assert node.get_right_node().get_left_node().get_value() == 10, 'Value of same node expected to be 10'\n",
    "\n",
    "print('tests completed')"
   ]
  },
  {
   "cell_type": "code",
   "execution_count": 3,
   "metadata": {},
   "outputs": [],
   "source": [
    "class Unique_Queue:\n",
    "    \"\"\"This class will implement a queue where each element has a unique entry.\n",
    "\n",
    "    Whenever an element is pushed that previously exists, it's existing\n",
    "    entry will be cleared and the element will be added to the tail of the queue.\n",
    "\n",
    "    We'll implement the queue as a linked list to avoid time complexity while resizing.\n",
    "\n",
    "    Q: head --> elem1 <--> elem2 <--> elem3 <-- tail\n",
    "    \"\"\"\n",
    "\n",
    "    def __init__(self):\n",
    "        self._elements = dict()  # will hold the index for each element\n",
    "        self._head = None\n",
    "        self._tail = None\n",
    "\n",
    "    def push(self, value):\n",
    "        \"\"\"Pushes a value to the tail.\n",
    "        \"\"\"\n",
    "        new_node = DoubleNode(value)\n",
    "        if not self._head:\n",
    "            # set head and tail for first element\n",
    "            self._head = new_node\n",
    "            self._tail = self._head\n",
    "        else:\n",
    "            # add new node to the right of tail element\n",
    "            self._tail.set_right_node(new_node)\n",
    "            self._tail = new_node\n",
    "\n",
    "            # if element already in queue, then pop it and squeeze links\n",
    "            if value in self._elements:\n",
    "                # if value found at head, pop it; tail will self adjust\n",
    "                if self._head.get_value() == value:\n",
    "                    self.pop()\n",
    "                else:\n",
    "                    old_node = self._elements[value]\n",
    "                    old_node.get_left_node().set_right_node(old_node.get_right_node())\n",
    "            \n",
    "        # update lookup\n",
    "        self._elements[value] = new_node\n",
    "\n",
    "    def pop(self):\n",
    "        \"\"\"Pops from the head and return the value\n",
    "        \"\"\"\n",
    "        if self._head:\n",
    "            node = self._head\n",
    "            # Move head to the next node\n",
    "            self._head = self._head.get_right_node()\n",
    "            if self._head:\n",
    "                self._head.set_left_node(None)\n",
    "            \n",
    "            # Remove value from lookup dict\n",
    "            val = node.get_value()\n",
    "            del self._elements[val]\n",
    "            return node.get_value()\n",
    "        \n",
    "        return None\n",
    "\n"
   ]
  },
  {
   "cell_type": "code",
   "execution_count": 4,
   "metadata": {},
   "outputs": [
    {
     "output_type": "stream",
     "name": "stdout",
     "text": [
      "Tests completed\n"
     ]
    }
   ],
   "source": [
    "# tests for simple queue\n",
    "q = Unique_Queue()\n",
    "assert q.pop() is None, 'Q should be empty'\n",
    "q.push(10)\n",
    "q.push(20)\n",
    "assert q.pop() == 10, 'value 10 was pushed first'\n",
    "assert q.pop() == 20, 'value 20 was pushed next'\n",
    "assert q.pop() is None, 'Q should be empty'\n",
    "\n",
    "print('Tests completed')"
   ]
  },
  {
   "cell_type": "code",
   "execution_count": 5,
   "metadata": {},
   "outputs": [
    {
     "output_type": "stream",
     "name": "stdout",
     "text": [
      "tests completed\n"
     ]
    }
   ],
   "source": [
    "# tests for unique queue\n",
    "q = Unique_Queue()\n",
    "assert q.pop() is None, 'Q should be empty'\n",
    "q.push(10)\n",
    "q.push(20)\n",
    "assert q.pop() == 10, 'value 10 was pushed first'\n",
    "assert q.pop() == 20, 'value 20 was pushed next'\n",
    "\n",
    "q.push(10)\n",
    "q.push(20)\n",
    "q.push(10)\n",
    "assert q.pop() == 20, '20 should be at the head and 10 went back to tail'\n",
    "assert q.pop() == 10, 'value 10 is now at the head'\n",
    "\n",
    "assert q.pop() is None, 'Q should be empty'\n",
    "print('tests completed')"
   ]
  },
  {
   "cell_type": "code",
   "execution_count": 6,
   "metadata": {},
   "outputs": [],
   "source": [
    "    \n",
    "class LRU_Cache(object):\n",
    "    \"\"\"Least Recenty Used Cache implementation.\n",
    "\n",
    "    This is built using a Dictionary for O(1) retrieval and a\n",
    "    Unique Queue for maintaining least used element.\n",
    "    \"\"\"\n",
    "\n",
    "    def __init__(self, capacity):\n",
    "        self._capacity = capacity\n",
    "        self._contents = dict()       \n",
    "        self._lru_queue =Unique_Queue()\n",
    "\n",
    "    def get(self, key):\n",
    "        # Retrieve item from provided key. Return -1 if nonexistent. \n",
    "        if key in self._contents:\n",
    "            self._lru_queue.push(key)  # update usage\n",
    "            return self._contents[key]\n",
    "        else:\n",
    "            return -1\n",
    "\n",
    "    def set(self, key, value):\n",
    "        # Set the value if the key is not present in the cache. If the cache is at capacity remove the oldest item. \n",
    "        if self._is_full():\n",
    "            self._flush_lru_key()\n",
    "\n",
    "        self._contents[key] = value\n",
    "        self._lru_queue.push(key)  # update usage\n",
    "\n",
    "    def _is_full(self):\n",
    "        # Returns True if the cache is up to capacity\n",
    "        if len(self._contents) >= self._capacity:\n",
    "            return True \n",
    "        else:\n",
    "            return False \n",
    "\n",
    "    def _flush_lru_key(self):\n",
    "        # Removes a single entry which was the least recenty used\n",
    "        oldest = self._lru_queue.pop()\n",
    "        assert oldest in self._contents, f'LRU Queue has {oldest} but not the contents'\n",
    "        del self._contents[oldest]\n",
    "\n"
   ]
  },
  {
   "source": [
    "## Test Cases"
   ],
   "cell_type": "markdown",
   "metadata": {}
  },
  {
   "cell_type": "code",
   "execution_count": 7,
   "metadata": {},
   "outputs": [
    {
     "output_type": "stream",
     "name": "stdout",
     "text": [
      "tests completed\n"
     ]
    }
   ],
   "source": [
    "# Basic Tests\n",
    "\n",
    "simple_cache = LRU_Cache(2)\n",
    "assert simple_cache.get(4) == -1, \"Cache miss should return -1\"\n",
    "simple_cache.set(3, 'test')\n",
    "assert simple_cache.get(3) == 'test', \"Cache hit should return 'test'\"\n",
    "print('tests completed')"
   ]
  },
  {
   "cell_type": "code",
   "execution_count": 8,
   "metadata": {},
   "outputs": [],
   "source": [
    "our_cache = LRU_Cache(5)\n",
    "\n",
    "our_cache.set(1, 1)\n",
    "our_cache.set(2, 2)\n",
    "our_cache.set(3, 3)\n",
    "our_cache.set(4, 4)\n"
   ]
  },
  {
   "cell_type": "code",
   "execution_count": 9,
   "metadata": {},
   "outputs": [
    {
     "output_type": "stream",
     "name": "stdout",
     "text": [
      "1\n2\n-1\n"
     ]
    }
   ],
   "source": [
    "print(our_cache.get(1))       # returns 1\n",
    "print(our_cache.get(2))       # returns 2\n",
    "print(our_cache.get(9))      # returns -1 because 9 is not present in the cache\n"
   ]
  },
  {
   "cell_type": "code",
   "execution_count": 10,
   "metadata": {},
   "outputs": [
    {
     "output_type": "execute_result",
     "data": {
      "text/plain": [
       "-1"
      ]
     },
     "metadata": {},
     "execution_count": 10
    }
   ],
   "source": [
    "our_cache.set(5, 5) \n",
    "our_cache.set(6, 6)\n",
    "\n",
    "our_cache.get(3)      # returns -1 because the cache reached it's capacity and 3 was the least recently used entry"
   ]
  }
 ]
}